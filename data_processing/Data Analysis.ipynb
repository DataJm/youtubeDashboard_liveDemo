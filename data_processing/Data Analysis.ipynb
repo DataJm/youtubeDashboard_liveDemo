{
 "cells": [
  {
   "cell_type": "code",
   "execution_count": 1,
   "id": "sought-litigation",
   "metadata": {},
   "outputs": [],
   "source": [
    "import pandas as pd"
   ]
  },
  {
   "cell_type": "code",
   "execution_count": 2,
   "id": "electric-translation",
   "metadata": {},
   "outputs": [],
   "source": [
    "from sqlalchemy import create_engine"
   ]
  },
  {
   "cell_type": "code",
   "execution_count": 17,
   "id": "isolated-orlando",
   "metadata": {},
   "outputs": [],
   "source": [
    "connection_string = \"postgres://postgres:gs@localhost/youtube\"\n",
    "conn = create_engine(connection_string)"
   ]
  },
  {
   "cell_type": "code",
   "execution_count": 18,
   "id": "coated-watson",
   "metadata": {},
   "outputs": [],
   "source": [
    "data = pd.read_sql(\"select * from ratings\",conn)"
   ]
  },
  {
   "cell_type": "code",
   "execution_count": 19,
   "id": "naval-ordinance",
   "metadata": {},
   "outputs": [
    {
     "data": {
      "text/plain": [
       "(40451, 16)"
      ]
     },
     "execution_count": 19,
     "metadata": {},
     "output_type": "execute_result"
    }
   ],
   "source": [
    "data.shape"
   ]
  },
  {
   "cell_type": "code",
   "execution_count": 20,
   "id": "alert-pakistan",
   "metadata": {
    "scrolled": true
   },
   "outputs": [
    {
     "data": {
      "text/plain": [
       "Index(['video_id', 'trending_date', 'title', 'channel_title', 'category_id',\n",
       "       'publish_time', 'tags', 'views', 'likes', 'dislikes', 'comment_count',\n",
       "       'thumbnail_link', 'comments_disabled', 'ratings_disabled',\n",
       "       'video_error_or_removed', 'description'],\n",
       "      dtype='object')"
      ]
     },
     "execution_count": 20,
     "metadata": {},
     "output_type": "execute_result"
    }
   ],
   "source": [
    "data.columns"
   ]
  },
  {
   "cell_type": "code",
   "execution_count": 21,
   "id": "brilliant-spotlight",
   "metadata": {},
   "outputs": [
    {
     "name": "stderr",
     "output_type": "stream",
     "text": [
      "<ipython-input-21-ad04411e041b>:1: FutureWarning: Indexing with multiple keys (implicitly converted to a tuple of keys) will be deprecated, use a list instead.\n",
      "  resultado = data.groupby(\"channel_title\")[\"views\",\"likes\"].sum()\n"
     ]
    }
   ],
   "source": [
    "resultado = data.groupby(\"channel_title\")[\"views\",\"likes\"].sum()"
   ]
  },
  {
   "cell_type": "code",
   "execution_count": 31,
   "id": "funny-madonna",
   "metadata": {},
   "outputs": [
    {
     "data": {
      "text/plain": [
       "'[{\"channel_title\":\"Marvel Entertainment\",\"views\":383058026},{\"channel_title\":\"YouTube Spotlight\",\"views\":255273304},{\"channel_title\":\"ibighit\",\"views\":251466087},{\"channel_title\":\"MalumaVEVO\",\"views\":226697506},{\"channel_title\":\"Dude Perfect\",\"views\":172934487}]'"
      ]
     },
     "execution_count": 31,
     "metadata": {},
     "output_type": "execute_result"
    }
   ],
   "source": [
    "(\n",
    "    resultado\n",
    "    .sort_values(by=\"views\", ascending=False)\n",
    "    .reset_index()\n",
    "    .loc[:,[\"channel_title\",\"views\"]]\n",
    "    .head()\n",
    "    .to_json(orient=\"records\")\n",
    ")"
   ]
  },
  {
   "cell_type": "code",
   "execution_count": 32,
   "id": "subtle-concert",
   "metadata": {},
   "outputs": [
    {
     "data": {
      "text/plain": [
       "'[{\"channel_title\":\"ibighit\",\"views\":251466087},{\"channel_title\":\"Marvel Entertainment\",\"views\":383058026},{\"channel_title\":\"JuegaGerman\",\"views\":111778573},{\"channel_title\":\"PewDiePie\",\"views\":154828754},{\"channel_title\":\"DrossRotzank\",\"views\":160722189}]'"
      ]
     },
     "execution_count": 32,
     "metadata": {},
     "output_type": "execute_result"
    }
   ],
   "source": [
    "(\n",
    "    resultado\n",
    "    .sort_values(by=\"likes\", ascending=False)\n",
    "    .reset_index()\n",
    "    .loc[:,[\"channel_title\",\"views\"]]\n",
    "    .head()\n",
    "    .to_json(orient=\"records\")\n",
    ")"
   ]
  }
 ],
 "metadata": {
  "kernelspec": {
   "display_name": "Python 3",
   "language": "python",
   "name": "python3"
  },
  "language_info": {
   "codemirror_mode": {
    "name": "ipython",
    "version": 3
   },
   "file_extension": ".py",
   "mimetype": "text/x-python",
   "name": "python",
   "nbconvert_exporter": "python",
   "pygments_lexer": "ipython3",
   "version": "3.8.5"
  }
 },
 "nbformat": 4,
 "nbformat_minor": 5
}
